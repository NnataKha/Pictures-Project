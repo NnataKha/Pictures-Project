{
 "cells": [
  {
   "cell_type": "code",
   "execution_count": null,
   "metadata": {},
   "outputs": [],
   "source": [
    "from os import listdir\n",
    "import face_detection as fd\n",
    "from cv2 import imwrite"
   ]
  },
  {
   "cell_type": "code",
   "execution_count": null,
   "metadata": {},
   "outputs": [],
   "source": [
    "#list of all available files in the directory\n",
    "files_list = listdir('C:\\\\Users\\\\mika\\\\Desktop\\\\Data Science\\\\Pictures Project\\\\img_align_celeba')\n",
    "#list of all files where a face was detected\n",
    "images_with_faces = []\n",
    "for file in files_list[:5]:\n",
    "    img = fd.read('img_align_celeba\\\\' + file)\n",
    "    if fd.is_face(img):\n",
    "        images_with_faces.append(file[:6]+'.png')\n",
    "        gray_face = fd.face_detect(img)\n",
    "        imwrite('faces_detected\\\\'+file[:6]+'.png', gray_face)"
   ]
  },
  {
   "cell_type": "code",
   "execution_count": null,
   "metadata": {},
   "outputs": [],
   "source": [
    "print(images_with_faces)"
   ]
  },
  {
   "cell_type": "code",
   "execution_count": null,
   "metadata": {},
   "outputs": [],
   "source": [
    "from IPython.display import display\n",
    "from PIL import Image\n",
    "\n",
    "display(Image.open('C:\\\\Users\\\\mika\\\\Desktop\\\\Data Science\\\\Pictures Project\\\\faces_detected\\\\000001.png'))\n"
   ]
  },
  {
   "cell_type": "code",
   "execution_count": null,
   "metadata": {},
   "outputs": [],
   "source": [
    "#!pip install imagehash\n",
    "from myhash import myhash\n",
    "pictures_hash = []\n",
    "for file in images_with_faces:\n",
    "    pictures_hash.append(myhash('faces_detected\\\\'+file))\n",
    "print(pictures_hash[0])  "
   ]
  },
  {
   "cell_type": "code",
   "execution_count": null,
   "metadata": {},
   "outputs": [],
   "source": []
  },
  {
   "cell_type": "code",
   "execution_count": null,
   "metadata": {},
   "outputs": [],
   "source": []
  },
  {
   "cell_type": "code",
   "execution_count": null,
   "metadata": {},
   "outputs": [],
   "source": []
  }
 ],
 "metadata": {
  "kernelspec": {
   "display_name": "Python 3",
   "language": "python",
   "name": "python3"
  },
  "language_info": {
   "codemirror_mode": {
    "name": "ipython",
    "version": 3
   },
   "file_extension": ".py",
   "mimetype": "text/x-python",
   "name": "python",
   "nbconvert_exporter": "python",
   "pygments_lexer": "ipython3",
   "version": "3.6.0"
  }
 },
 "nbformat": 4,
 "nbformat_minor": 2
}
